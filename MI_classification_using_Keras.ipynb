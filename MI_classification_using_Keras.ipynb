{
  "nbformat": 4,
  "nbformat_minor": 0,
  "metadata": {
    "colab": {
      "provenance": [],
      "authorship_tag": "ABX9TyNuGdQ2CwB7or/+4bkR60wS",
      "include_colab_link": true
    },
    "kernelspec": {
      "name": "python3",
      "display_name": "Python 3"
    },
    "language_info": {
      "name": "python"
    }
  },
  "cells": [
    {
      "cell_type": "markdown",
      "metadata": {
        "id": "view-in-github",
        "colab_type": "text"
      },
      "source": [
        "<a href=\"https://colab.research.google.com/github/RenuMaan/hobby_projects/blob/main/MI_classification_using_Keras.ipynb\" target=\"_parent\"><img src=\"https://colab.research.google.com/assets/colab-badge.svg\" alt=\"Open In Colab\"/></a>"
      ]
    },
    {
      "cell_type": "code",
      "execution_count": 4,
      "metadata": {
        "id": "1U95txavnW6A"
      },
      "outputs": [],
      "source": [
        "# mycardial infraction outcome classifiction using neural netowrk\n",
        "import pandas as pd\n",
        "import numpy as np\n",
        "import seaborn as sns\n",
        "from matplotlib import pyplot as plt\n",
        "import keras\n",
        "from keras import Sequential\n",
        "from keras import layers\n"
      ]
    },
    {
      "cell_type": "code",
      "source": [
        "data = pd.read_csv(\"Myocardial infarction complications.csv\")\n",
        "data.info()"
      ],
      "metadata": {
        "colab": {
          "base_uri": "https://localhost:8080/"
        },
        "id": "UOBpDzExqbim",
        "outputId": "d226cb39-004b-4589-a53c-dd9a4a7f5fde"
      },
      "execution_count": 5,
      "outputs": [
        {
          "output_type": "stream",
          "name": "stdout",
          "text": [
            "<class 'pandas.core.frame.DataFrame'>\n",
            "RangeIndex: 1700 entries, 0 to 1699\n",
            "Columns: 124 entries, ID to LET_IS\n",
            "dtypes: float64(110), int64(14)\n",
            "memory usage: 1.6 MB\n"
          ]
        }
      ]
    },
    {
      "cell_type": "code",
      "source": [
        "data.isnull().sum().values"
      ],
      "metadata": {
        "colab": {
          "base_uri": "https://localhost:8080/"
        },
        "id": "zulR1aa1unLD",
        "outputId": "77681af4-4366-4e12-b6db-018e57557af4"
      },
      "execution_count": 6,
      "outputs": [
        {
          "output_type": "execute_result",
          "data": {
            "text/plain": [
              "array([   0,    8,    0,    4,  106,   73,   51, 1628,    9,    8,  248,\n",
              "         54,   21,   21,   21,   21,   21,   21,   21,   18,   18,   18,\n",
              "         18,   18,   18,   18,   11,   10,   10,    7,    7,    7,    7,\n",
              "          7, 1076, 1076,  267,  267,   12,   15,   14,   12,   12,   12,\n",
              "         83,   80,   80,   72,    1,  152,  152,  152,  152,  152,  152,\n",
              "        115,  115,  115,  115,  115,  115,  115,  115,  115,  115,  115,\n",
              "        115,  115,  115,  115,  115,  115,  115,  115,  115,   10,   10,\n",
              "         10,   10,   10,   10,   10,  369,  371,  375,  375,  284,  285,\n",
              "       1696,  125,  203,  126,   16,  108,  128,  657,  686,  677,    9,\n",
              "          5,  108,  131,   10,  110,  131,   10,   11,   13,   17,   17,\n",
              "         16,   16,    0,    0,    0,    0,    0,    0,    0,    0,    0,\n",
              "          0,    0,    0])"
            ]
          },
          "metadata": {},
          "execution_count": 6
        }
      ]
    },
    {
      "cell_type": "code",
      "source": [
        "data.drop([col for col in data.columns if data[col].isnull().sum()>1000], axis = 1, inplace = True)"
      ],
      "metadata": {
        "id": "H2ce3JGRu3da"
      },
      "execution_count": 9,
      "outputs": []
    },
    {
      "cell_type": "code",
      "source": [
        "print(data.shape)\n",
        "print(data.columns)"
      ],
      "metadata": {
        "colab": {
          "base_uri": "https://localhost:8080/"
        },
        "id": "3u4wKZX0tdkY",
        "outputId": "a499efbc-1400-4785-de5d-9629c69fa243"
      },
      "execution_count": 14,
      "outputs": [
        {
          "output_type": "stream",
          "name": "stdout",
          "text": [
            "(1700, 120)\n",
            "Index(['ID', 'AGE', 'SEX', 'INF_ANAM', 'STENOK_AN', 'FK_STENOK', 'IBS_POST',\n",
            "       'GB', 'SIM_GIPERT', 'DLIT_AG',\n",
            "       ...\n",
            "       'JELUD_TAH', 'FIBR_JELUD', 'A_V_BLOK', 'OTEK_LANC', 'RAZRIV',\n",
            "       'DRESSLER', 'ZSN', 'REC_IM', 'P_IM_STEN', 'LET_IS'],\n",
            "      dtype='object', length=120)\n"
          ]
        }
      ]
    },
    {
      "cell_type": "code",
      "source": [
        "import missingno as msno\n",
        "from collections import Counter\n",
        "l_out = list(range(0,8))\n",
        "for outcome in l_out:\n",
        "    for col in data.columns:\n",
        "        if data[col].isnull().sum()>0:\n",
        "            most_freq = Counter(data.loc[data[\"LET_IS\"]==outcome, [col]][col].values).most_common()[0][0]\n",
        "            data[col].fillna(most_freq, inplace=True)\n",
        "data.isnull().sum().values"
      ],
      "metadata": {
        "colab": {
          "base_uri": "https://localhost:8080/"
        },
        "id": "VZAd1YXXubAO",
        "outputId": "6b3ce246-6a65-49fd-c392-7b87ac56e69e"
      },
      "execution_count": 16,
      "outputs": [
        {
          "output_type": "execute_result",
          "data": {
            "text/plain": [
              "array([0, 0, 0, 0, 0, 0, 0, 0, 0, 0, 0, 0, 0, 0, 0, 0, 0, 0, 0, 0, 0, 0,\n",
              "       0, 0, 0, 0, 0, 0, 0, 0, 0, 0, 0, 0, 0, 0, 0, 0, 0, 0, 0, 0, 0, 0,\n",
              "       0, 0, 0, 0, 0, 0, 0, 0, 0, 0, 0, 0, 0, 0, 0, 0, 0, 0, 0, 0, 0, 0,\n",
              "       0, 0, 0, 0, 0, 0, 0, 0, 0, 0, 0, 0, 0, 0, 0, 0, 0, 0, 0, 0, 0, 0,\n",
              "       0, 0, 0, 0, 0, 0, 0, 0, 0, 0, 0, 0, 0, 0, 0, 0, 0, 0, 0, 0, 0, 0,\n",
              "       0, 0, 0, 0, 0, 0, 0, 0, 0, 0])"
            ]
          },
          "metadata": {},
          "execution_count": 16
        }
      ]
    },
    {
      "cell_type": "code",
      "source": [
        "data.drop(\"ID\", axis =1, inplace = True)"
      ],
      "metadata": {
        "id": "1-Ge-fy4v-ct"
      },
      "execution_count": 20,
      "outputs": []
    },
    {
      "cell_type": "code",
      "source": [
        "data.head()"
      ],
      "metadata": {
        "colab": {
          "base_uri": "https://localhost:8080/",
          "height": 255
        },
        "id": "x3j37aglwvKf",
        "outputId": "c5f7b91f-3a4b-4e15-f113-8d748dee6668"
      },
      "execution_count": 21,
      "outputs": [
        {
          "output_type": "execute_result",
          "data": {
            "text/plain": [
              "    AGE  SEX  INF_ANAM  STENOK_AN  FK_STENOK  IBS_POST   GB  SIM_GIPERT  \\\n",
              "0  77.0    1       2.0        1.0        1.0       2.0  3.0         0.0   \n",
              "1  55.0    1       1.0        0.0        0.0       0.0  0.0         0.0   \n",
              "2  52.0    1       0.0        0.0        0.0       2.0  2.0         0.0   \n",
              "3  68.0    0       0.0        0.0        0.0       2.0  2.0         0.0   \n",
              "4  60.0    1       0.0        0.0        0.0       2.0  3.0         0.0   \n",
              "\n",
              "   DLIT_AG  ZSN_A  ...  JELUD_TAH  FIBR_JELUD  A_V_BLOK  OTEK_LANC  RAZRIV  \\\n",
              "0      7.0    0.0  ...          0           0         0          0       0   \n",
              "1      0.0    0.0  ...          0           0         0          0       0   \n",
              "2      2.0    0.0  ...          0           0         0          0       0   \n",
              "3      3.0    1.0  ...          0           0         0          0       0   \n",
              "4      7.0    0.0  ...          0           0         0          0       0   \n",
              "\n",
              "   DRESSLER  ZSN  REC_IM  P_IM_STEN  LET_IS  \n",
              "0         0    0       0          0       0  \n",
              "1         0    0       0          0       0  \n",
              "2         0    0       0          0       0  \n",
              "3         0    1       0          0       0  \n",
              "4         0    0       0          0       0  \n",
              "\n",
              "[5 rows x 119 columns]"
            ],
            "text/html": [
              "\n",
              "  <div id=\"df-46f56edb-fda1-4dfd-8d26-c61e93806b40\" class=\"colab-df-container\">\n",
              "    <div>\n",
              "<style scoped>\n",
              "    .dataframe tbody tr th:only-of-type {\n",
              "        vertical-align: middle;\n",
              "    }\n",
              "\n",
              "    .dataframe tbody tr th {\n",
              "        vertical-align: top;\n",
              "    }\n",
              "\n",
              "    .dataframe thead th {\n",
              "        text-align: right;\n",
              "    }\n",
              "</style>\n",
              "<table border=\"1\" class=\"dataframe\">\n",
              "  <thead>\n",
              "    <tr style=\"text-align: right;\">\n",
              "      <th></th>\n",
              "      <th>AGE</th>\n",
              "      <th>SEX</th>\n",
              "      <th>INF_ANAM</th>\n",
              "      <th>STENOK_AN</th>\n",
              "      <th>FK_STENOK</th>\n",
              "      <th>IBS_POST</th>\n",
              "      <th>GB</th>\n",
              "      <th>SIM_GIPERT</th>\n",
              "      <th>DLIT_AG</th>\n",
              "      <th>ZSN_A</th>\n",
              "      <th>...</th>\n",
              "      <th>JELUD_TAH</th>\n",
              "      <th>FIBR_JELUD</th>\n",
              "      <th>A_V_BLOK</th>\n",
              "      <th>OTEK_LANC</th>\n",
              "      <th>RAZRIV</th>\n",
              "      <th>DRESSLER</th>\n",
              "      <th>ZSN</th>\n",
              "      <th>REC_IM</th>\n",
              "      <th>P_IM_STEN</th>\n",
              "      <th>LET_IS</th>\n",
              "    </tr>\n",
              "  </thead>\n",
              "  <tbody>\n",
              "    <tr>\n",
              "      <th>0</th>\n",
              "      <td>77.0</td>\n",
              "      <td>1</td>\n",
              "      <td>2.0</td>\n",
              "      <td>1.0</td>\n",
              "      <td>1.0</td>\n",
              "      <td>2.0</td>\n",
              "      <td>3.0</td>\n",
              "      <td>0.0</td>\n",
              "      <td>7.0</td>\n",
              "      <td>0.0</td>\n",
              "      <td>...</td>\n",
              "      <td>0</td>\n",
              "      <td>0</td>\n",
              "      <td>0</td>\n",
              "      <td>0</td>\n",
              "      <td>0</td>\n",
              "      <td>0</td>\n",
              "      <td>0</td>\n",
              "      <td>0</td>\n",
              "      <td>0</td>\n",
              "      <td>0</td>\n",
              "    </tr>\n",
              "    <tr>\n",
              "      <th>1</th>\n",
              "      <td>55.0</td>\n",
              "      <td>1</td>\n",
              "      <td>1.0</td>\n",
              "      <td>0.0</td>\n",
              "      <td>0.0</td>\n",
              "      <td>0.0</td>\n",
              "      <td>0.0</td>\n",
              "      <td>0.0</td>\n",
              "      <td>0.0</td>\n",
              "      <td>0.0</td>\n",
              "      <td>...</td>\n",
              "      <td>0</td>\n",
              "      <td>0</td>\n",
              "      <td>0</td>\n",
              "      <td>0</td>\n",
              "      <td>0</td>\n",
              "      <td>0</td>\n",
              "      <td>0</td>\n",
              "      <td>0</td>\n",
              "      <td>0</td>\n",
              "      <td>0</td>\n",
              "    </tr>\n",
              "    <tr>\n",
              "      <th>2</th>\n",
              "      <td>52.0</td>\n",
              "      <td>1</td>\n",
              "      <td>0.0</td>\n",
              "      <td>0.0</td>\n",
              "      <td>0.0</td>\n",
              "      <td>2.0</td>\n",
              "      <td>2.0</td>\n",
              "      <td>0.0</td>\n",
              "      <td>2.0</td>\n",
              "      <td>0.0</td>\n",
              "      <td>...</td>\n",
              "      <td>0</td>\n",
              "      <td>0</td>\n",
              "      <td>0</td>\n",
              "      <td>0</td>\n",
              "      <td>0</td>\n",
              "      <td>0</td>\n",
              "      <td>0</td>\n",
              "      <td>0</td>\n",
              "      <td>0</td>\n",
              "      <td>0</td>\n",
              "    </tr>\n",
              "    <tr>\n",
              "      <th>3</th>\n",
              "      <td>68.0</td>\n",
              "      <td>0</td>\n",
              "      <td>0.0</td>\n",
              "      <td>0.0</td>\n",
              "      <td>0.0</td>\n",
              "      <td>2.0</td>\n",
              "      <td>2.0</td>\n",
              "      <td>0.0</td>\n",
              "      <td>3.0</td>\n",
              "      <td>1.0</td>\n",
              "      <td>...</td>\n",
              "      <td>0</td>\n",
              "      <td>0</td>\n",
              "      <td>0</td>\n",
              "      <td>0</td>\n",
              "      <td>0</td>\n",
              "      <td>0</td>\n",
              "      <td>1</td>\n",
              "      <td>0</td>\n",
              "      <td>0</td>\n",
              "      <td>0</td>\n",
              "    </tr>\n",
              "    <tr>\n",
              "      <th>4</th>\n",
              "      <td>60.0</td>\n",
              "      <td>1</td>\n",
              "      <td>0.0</td>\n",
              "      <td>0.0</td>\n",
              "      <td>0.0</td>\n",
              "      <td>2.0</td>\n",
              "      <td>3.0</td>\n",
              "      <td>0.0</td>\n",
              "      <td>7.0</td>\n",
              "      <td>0.0</td>\n",
              "      <td>...</td>\n",
              "      <td>0</td>\n",
              "      <td>0</td>\n",
              "      <td>0</td>\n",
              "      <td>0</td>\n",
              "      <td>0</td>\n",
              "      <td>0</td>\n",
              "      <td>0</td>\n",
              "      <td>0</td>\n",
              "      <td>0</td>\n",
              "      <td>0</td>\n",
              "    </tr>\n",
              "  </tbody>\n",
              "</table>\n",
              "<p>5 rows × 119 columns</p>\n",
              "</div>\n",
              "    <div class=\"colab-df-buttons\">\n",
              "\n",
              "  <div class=\"colab-df-container\">\n",
              "    <button class=\"colab-df-convert\" onclick=\"convertToInteractive('df-46f56edb-fda1-4dfd-8d26-c61e93806b40')\"\n",
              "            title=\"Convert this dataframe to an interactive table.\"\n",
              "            style=\"display:none;\">\n",
              "\n",
              "  <svg xmlns=\"http://www.w3.org/2000/svg\" height=\"24px\" viewBox=\"0 -960 960 960\">\n",
              "    <path d=\"M120-120v-720h720v720H120Zm60-500h600v-160H180v160Zm220 220h160v-160H400v160Zm0 220h160v-160H400v160ZM180-400h160v-160H180v160Zm440 0h160v-160H620v160ZM180-180h160v-160H180v160Zm440 0h160v-160H620v160Z\"/>\n",
              "  </svg>\n",
              "    </button>\n",
              "\n",
              "  <style>\n",
              "    .colab-df-container {\n",
              "      display:flex;\n",
              "      gap: 12px;\n",
              "    }\n",
              "\n",
              "    .colab-df-convert {\n",
              "      background-color: #E8F0FE;\n",
              "      border: none;\n",
              "      border-radius: 50%;\n",
              "      cursor: pointer;\n",
              "      display: none;\n",
              "      fill: #1967D2;\n",
              "      height: 32px;\n",
              "      padding: 0 0 0 0;\n",
              "      width: 32px;\n",
              "    }\n",
              "\n",
              "    .colab-df-convert:hover {\n",
              "      background-color: #E2EBFA;\n",
              "      box-shadow: 0px 1px 2px rgba(60, 64, 67, 0.3), 0px 1px 3px 1px rgba(60, 64, 67, 0.15);\n",
              "      fill: #174EA6;\n",
              "    }\n",
              "\n",
              "    .colab-df-buttons div {\n",
              "      margin-bottom: 4px;\n",
              "    }\n",
              "\n",
              "    [theme=dark] .colab-df-convert {\n",
              "      background-color: #3B4455;\n",
              "      fill: #D2E3FC;\n",
              "    }\n",
              "\n",
              "    [theme=dark] .colab-df-convert:hover {\n",
              "      background-color: #434B5C;\n",
              "      box-shadow: 0px 1px 3px 1px rgba(0, 0, 0, 0.15);\n",
              "      filter: drop-shadow(0px 1px 2px rgba(0, 0, 0, 0.3));\n",
              "      fill: #FFFFFF;\n",
              "    }\n",
              "  </style>\n",
              "\n",
              "    <script>\n",
              "      const buttonEl =\n",
              "        document.querySelector('#df-46f56edb-fda1-4dfd-8d26-c61e93806b40 button.colab-df-convert');\n",
              "      buttonEl.style.display =\n",
              "        google.colab.kernel.accessAllowed ? 'block' : 'none';\n",
              "\n",
              "      async function convertToInteractive(key) {\n",
              "        const element = document.querySelector('#df-46f56edb-fda1-4dfd-8d26-c61e93806b40');\n",
              "        const dataTable =\n",
              "          await google.colab.kernel.invokeFunction('convertToInteractive',\n",
              "                                                    [key], {});\n",
              "        if (!dataTable) return;\n",
              "\n",
              "        const docLinkHtml = 'Like what you see? Visit the ' +\n",
              "          '<a target=\"_blank\" href=https://colab.research.google.com/notebooks/data_table.ipynb>data table notebook</a>'\n",
              "          + ' to learn more about interactive tables.';\n",
              "        element.innerHTML = '';\n",
              "        dataTable['output_type'] = 'display_data';\n",
              "        await google.colab.output.renderOutput(dataTable, element);\n",
              "        const docLink = document.createElement('div');\n",
              "        docLink.innerHTML = docLinkHtml;\n",
              "        element.appendChild(docLink);\n",
              "      }\n",
              "    </script>\n",
              "  </div>\n",
              "\n",
              "\n",
              "<div id=\"df-59e4f829-69fd-4283-a46b-36bfffa82ccd\">\n",
              "  <button class=\"colab-df-quickchart\" onclick=\"quickchart('df-59e4f829-69fd-4283-a46b-36bfffa82ccd')\"\n",
              "            title=\"Suggest charts.\"\n",
              "            style=\"display:none;\">\n",
              "\n",
              "<svg xmlns=\"http://www.w3.org/2000/svg\" height=\"24px\"viewBox=\"0 0 24 24\"\n",
              "     width=\"24px\">\n",
              "    <g>\n",
              "        <path d=\"M19 3H5c-1.1 0-2 .9-2 2v14c0 1.1.9 2 2 2h14c1.1 0 2-.9 2-2V5c0-1.1-.9-2-2-2zM9 17H7v-7h2v7zm4 0h-2V7h2v10zm4 0h-2v-4h2v4z\"/>\n",
              "    </g>\n",
              "</svg>\n",
              "  </button>\n",
              "\n",
              "<style>\n",
              "  .colab-df-quickchart {\n",
              "      --bg-color: #E8F0FE;\n",
              "      --fill-color: #1967D2;\n",
              "      --hover-bg-color: #E2EBFA;\n",
              "      --hover-fill-color: #174EA6;\n",
              "      --disabled-fill-color: #AAA;\n",
              "      --disabled-bg-color: #DDD;\n",
              "  }\n",
              "\n",
              "  [theme=dark] .colab-df-quickchart {\n",
              "      --bg-color: #3B4455;\n",
              "      --fill-color: #D2E3FC;\n",
              "      --hover-bg-color: #434B5C;\n",
              "      --hover-fill-color: #FFFFFF;\n",
              "      --disabled-bg-color: #3B4455;\n",
              "      --disabled-fill-color: #666;\n",
              "  }\n",
              "\n",
              "  .colab-df-quickchart {\n",
              "    background-color: var(--bg-color);\n",
              "    border: none;\n",
              "    border-radius: 50%;\n",
              "    cursor: pointer;\n",
              "    display: none;\n",
              "    fill: var(--fill-color);\n",
              "    height: 32px;\n",
              "    padding: 0;\n",
              "    width: 32px;\n",
              "  }\n",
              "\n",
              "  .colab-df-quickchart:hover {\n",
              "    background-color: var(--hover-bg-color);\n",
              "    box-shadow: 0 1px 2px rgba(60, 64, 67, 0.3), 0 1px 3px 1px rgba(60, 64, 67, 0.15);\n",
              "    fill: var(--button-hover-fill-color);\n",
              "  }\n",
              "\n",
              "  .colab-df-quickchart-complete:disabled,\n",
              "  .colab-df-quickchart-complete:disabled:hover {\n",
              "    background-color: var(--disabled-bg-color);\n",
              "    fill: var(--disabled-fill-color);\n",
              "    box-shadow: none;\n",
              "  }\n",
              "\n",
              "  .colab-df-spinner {\n",
              "    border: 2px solid var(--fill-color);\n",
              "    border-color: transparent;\n",
              "    border-bottom-color: var(--fill-color);\n",
              "    animation:\n",
              "      spin 1s steps(1) infinite;\n",
              "  }\n",
              "\n",
              "  @keyframes spin {\n",
              "    0% {\n",
              "      border-color: transparent;\n",
              "      border-bottom-color: var(--fill-color);\n",
              "      border-left-color: var(--fill-color);\n",
              "    }\n",
              "    20% {\n",
              "      border-color: transparent;\n",
              "      border-left-color: var(--fill-color);\n",
              "      border-top-color: var(--fill-color);\n",
              "    }\n",
              "    30% {\n",
              "      border-color: transparent;\n",
              "      border-left-color: var(--fill-color);\n",
              "      border-top-color: var(--fill-color);\n",
              "      border-right-color: var(--fill-color);\n",
              "    }\n",
              "    40% {\n",
              "      border-color: transparent;\n",
              "      border-right-color: var(--fill-color);\n",
              "      border-top-color: var(--fill-color);\n",
              "    }\n",
              "    60% {\n",
              "      border-color: transparent;\n",
              "      border-right-color: var(--fill-color);\n",
              "    }\n",
              "    80% {\n",
              "      border-color: transparent;\n",
              "      border-right-color: var(--fill-color);\n",
              "      border-bottom-color: var(--fill-color);\n",
              "    }\n",
              "    90% {\n",
              "      border-color: transparent;\n",
              "      border-bottom-color: var(--fill-color);\n",
              "    }\n",
              "  }\n",
              "</style>\n",
              "\n",
              "  <script>\n",
              "    async function quickchart(key) {\n",
              "      const quickchartButtonEl =\n",
              "        document.querySelector('#' + key + ' button');\n",
              "      quickchartButtonEl.disabled = true;  // To prevent multiple clicks.\n",
              "      quickchartButtonEl.classList.add('colab-df-spinner');\n",
              "      try {\n",
              "        const charts = await google.colab.kernel.invokeFunction(\n",
              "            'suggestCharts', [key], {});\n",
              "      } catch (error) {\n",
              "        console.error('Error during call to suggestCharts:', error);\n",
              "      }\n",
              "      quickchartButtonEl.classList.remove('colab-df-spinner');\n",
              "      quickchartButtonEl.classList.add('colab-df-quickchart-complete');\n",
              "    }\n",
              "    (() => {\n",
              "      let quickchartButtonEl =\n",
              "        document.querySelector('#df-59e4f829-69fd-4283-a46b-36bfffa82ccd button');\n",
              "      quickchartButtonEl.style.display =\n",
              "        google.colab.kernel.accessAllowed ? 'block' : 'none';\n",
              "    })();\n",
              "  </script>\n",
              "</div>\n",
              "    </div>\n",
              "  </div>\n"
            ]
          },
          "metadata": {},
          "execution_count": 21
        }
      ]
    },
    {
      "cell_type": "code",
      "source": [
        "data.rename(columns={'INF_ANAM':'mi_num','STENOK_AN':'ch_pain','FK_STENOK':'grade_ch_pain',\n",
        "                    'IBS_POST':'heart_disease_history','IBS_NASL':'family_history','GB':'high_BP','SIM_GIPERT':'BP_above_180',\n",
        "                    'DLIT_AG':'his_of_hbp','S_AD_KBRIG':'sys_BP_ET','D_AD_KBRIG':'dia_BP_ET',\n",
        "                     'S_AD_ORIT':'sys_BP_ICU','D_AD_ORIT':'dia_BP_ICU','ZSN_A':'CHF_history',\"AGE\":\"age\", \"SEX\":'sex',\n",
        "                    'ritm_ecg_p_01': 'rytm_sinus_normal','ritm_ecg_p_02':'rytm_atr_fibr','ritm_ecg_p_04':'rytm_atrial',\n",
        "                     'ritm_ecg_p_06': 'rytm_idioventricular','ritm_ecg_p_07': 'rythm_sinus_above_90',\n",
        "                     'ritm_ecg_p_08': 'rytm_sinus_below_60','SVT_POST':'type_heart_rytm','MP_TP_POST':'atr_rytm_irrgularity',\n",
        "                     'FIB_G_POST': 'vent_rytm_irregularity','GT_POST':'rapid_rytm_upper_chamber',\n",
        "                     'K_SH_POST':'cardiogenic_shock',\n",
        "                    'ant_im':'anterior_MI_LV','post_im':'posterior_MI_LV', 'lat_im':'lateral_MI_LV',\n",
        "                     'inf_im': 'inferior_MI_LV', 'IM_PG_P':'RV_MI','O_L_POST':'edema_ICU',\n",
        "                     'fibr_ter_01':'drug1_750k','fibr_ter_02': 'drug1_1k','fibr_ter_03':'drug1_3m','fibr_ter_05':'drug2',\n",
        "                      'fibr_ter_06':'drug2_500k','fibr_ter_07': 'drug1_250k','fibr_ter_08':'drug2_1.5m',\n",
        "                    'GIPO_K': 'low_K', 'K_BLOOD':'K_value','GIPER_NA':'high_Na','NA_BLOOD':'Na_value',\n",
        "                       'ALT_BLOOD':'ALT_level','AST_BLOOD': 'AST_level','KFK_BLOOD':'CPK_level','L_BLOOD':'wbc_count',\n",
        "                       'ROE': 'ESR','R_AB_1_n':'pain_relapse_1hr','R_AB_2_n':'pain_relapse_2day',\n",
        "                       'R_AB_3_n':'pain_relapse_3day',\n",
        "                     'REC_IM':'mi_relapse','RAZRIV':'myocar_rupture','A_V_BLOK':'III_av_block',\n",
        "                    'OTEK_LANC':'edema','FIBR_PREDS':'art_fib','FIBR_JELUD':'ven_fib','PREDS_TAH':'SPV_tach',\n",
        "                   'JELUD_TAH':'ven_tach', 'ZSN':'CHF','LET_IS':'lethal_outcome',\n",
        "                    'TRENT_S_n':'blood_thinner','GEPAR_S_n':'anticoagulants','TIKL_S_n':'platelet_agg_inhib',\n",
        "                     'ASP_S_n':'pain_killer1','ANT_CA_S_n':'Ca_blocker','B_BLOK_S_n':'beta_blocker',\n",
        "                     'LID_S_n':'local_anesthesia_ICU','LID_KB':'local_anesthesia_ET','NITR_S':'lq_nitrates',\n",
        "                     'NA_KB':'opioid_ET','NA_R_1_n':'opioid_1st_hr','NA_R_2_n':'opioid_2nd_day','NA_R_3_n':'opioid_3rd_day',\n",
        "                     'NOT_NA_KB':'NSAIDS_ET','NOT_NA_1_n':'NSAIDS_1st_hr','NOT_NA_2_n':'NSAIDS_2nd_day',\n",
        "                     'NOT_NA_3_n':'NSAIDS_3rd_day',\n",
        "                    'endocr_01':'diabetes_mellitus','endocr_02':'obesity','endocr_03':'thyrotoxicosis',\n",
        "                     'zab_leg_01':'chronic_bronchitis','zab_leg_02':'obstructive_chronic_bronchitis','zab_leg_03':'bronchial_asthma',\n",
        "                     'zab_leg_04':'chronic_pneumonia ', 'zab_leg_06':'pulmonary_tuberculosis'}, inplace = True)\n"
      ],
      "metadata": {
        "id": "pcxGko0rw8sC"
      },
      "execution_count": 29,
      "outputs": []
    },
    {
      "cell_type": "code",
      "source": [
        "non_cat_cols = ['age','dia_BP_ICU', 'K_value', 'Na_value', 'ALT_level', 'AST_level','ESR', 'TIME_B_S', 'wbc_count']"
      ],
      "metadata": {
        "id": "iokQzj5RxVQ4"
      },
      "execution_count": 32,
      "outputs": []
    },
    {
      "cell_type": "code",
      "source": [
        "from sklearn.feature_selection import chi2\n",
        "df_cat = data.drop(non_cat_cols, axis = 1)\n",
        "df_cat.drop(\"lethal_outcome\", axis = 1, inplace=True)\n",
        "Target = data[[\"lethal_outcome\"]]\n",
        "chi_scores = chi2(df_cat,Target)\n",
        "p_value = pd.Series((chi_scores[1]),index = df_cat.columns)\n",
        "cat_col_sel = []\n",
        "for col in p_value.index:\n",
        "  if p_value[col]>0.05:\n",
        "    cat_col_sel.append(col)\n",
        "print(len(cat_col_sel))"
      ],
      "metadata": {
        "colab": {
          "base_uri": "https://localhost:8080/"
        },
        "id": "AaAtrTYAymzR",
        "outputId": "ba49bf98-cc2f-4bc1-8cfe-94fe9feacd85"
      },
      "execution_count": 45,
      "outputs": [
        {
          "output_type": "stream",
          "name": "stdout",
          "text": [
            "54\n"
          ]
        }
      ]
    },
    {
      "cell_type": "code",
      "source": [
        "p_value['bronchial_asthma']"
      ],
      "metadata": {
        "colab": {
          "base_uri": "https://localhost:8080/"
        },
        "id": "YLZZltWAzUyX",
        "outputId": "e2701006-c70a-4b44-cf52-9629a1113b98"
      },
      "execution_count": 41,
      "outputs": [
        {
          "output_type": "execute_result",
          "data": {
            "text/plain": [
              "0.0015400275290700517"
            ]
          },
          "metadata": {},
          "execution_count": 41
        }
      ]
    },
    {
      "cell_type": "code",
      "source": [],
      "metadata": {
        "id": "2ScF1nlr1cAv"
      },
      "execution_count": null,
      "outputs": []
    }
  ]
}